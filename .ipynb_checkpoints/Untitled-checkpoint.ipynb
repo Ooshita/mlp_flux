{
 "cells": [
  {
   "cell_type": "code",
   "execution_count": null,
   "metadata": {},
   "outputs": [],
   "source": [
    "using Flux, Flux.Data.MNIST\n",
    "using Flux: @epochs, mse, onehotbatch\n",
    "using Random\n",
    "using Base.Iterators: partition\n",
    "using BSON: @load, @save\n",
    "\n",
    "\n",
    "imgs = MNIST.images(:train)\n",
    "train_X = hcat(float.(vec.(imgs))...)\n",
    "labels = MNIST.labels(:train)\n",
    "train_Y = onehotbatch(labels,0:9)\n",
    "\n",
    "batchsize = 64\n",
    "train_dataset = ([(train_X[:,batch] ,train_Y[:,batch]) for batch in partition(1:size(train_Y)[2],batchsize)])\n",
    "\n",
    "model = Chain(\n",
    "  Dense(28^2, 32, relu),\n",
    "  Dense(32, 32, relu),\n",
    "  Dense(32, 10),\n",
    "  softmax)\n",
    "\n",
    "loss(x, y) = mse(model(x), y) \n",
    "opt = ADAM(params(model))\n",
    "\n",
    "@epochs 100 Flux.train!(loss, [train_X, train_Y], opt)\n",
    "\n",
    "# モデルの保存\n",
    "pretrained = model |> cpu\n",
    "weights = Tracker.data.(params(pretrained))\n",
    "@save \"pretrained.bson\" pretrained\n",
    "@save \"weights.bson\" weights\n",
    "println(\"Finished to train\")"
   ]
  },
  {
   "cell_type": "code",
   "execution_count": null,
   "metadata": {},
   "outputs": [],
   "source": []
  },
  {
   "cell_type": "code",
   "execution_count": null,
   "metadata": {},
   "outputs": [],
   "source": []
  }
 ],
 "metadata": {
  "kernelspec": {
   "display_name": "Julia 1.0.2",
   "language": "julia",
   "name": "julia-1.0"
  },
  "language_info": {
   "file_extension": ".jl",
   "mimetype": "application/julia",
   "name": "julia",
   "version": "1.0.2"
  }
 },
 "nbformat": 4,
 "nbformat_minor": 2
}
